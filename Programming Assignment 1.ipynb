{
 "cells": [
  {
   "cell_type": "markdown",
   "id": "99edb285",
   "metadata": {},
   "source": [
    "# Programming Assignment 1\n",
    "## Lucille Barnett, Version 3.3.2, CS-150-1"
   ]
  },
  {
   "cell_type": "code",
   "execution_count": 1,
   "id": "188716d1",
   "metadata": {},
   "outputs": [
    {
     "name": "stdout",
     "output_type": "stream",
     "text": [
      "Enter a floating number: 9.765\n",
      "Enter an integer: 3\n"
     ]
    }
   ],
   "source": [
    "number1 = float(input(\"Enter a floating number: \"))\n",
    "number2 = int(input(\"Enter an integer: \"))"
   ]
  },
  {
   "cell_type": "code",
   "execution_count": 4,
   "id": "f1f3b8a8",
   "metadata": {},
   "outputs": [
    {
     "name": "stdout",
     "output_type": "stream",
     "text": [
      "The sum is:  12.765\n"
     ]
    }
   ],
   "source": [
    "##sum\n",
    "print(\"The sum is: \", number1+number2)"
   ]
  },
  {
   "cell_type": "code",
   "execution_count": 5,
   "id": "9b098d63",
   "metadata": {},
   "outputs": [
    {
     "name": "stdout",
     "output_type": "stream",
     "text": [
      "The difference is:  6.765000000000001\n"
     ]
    }
   ],
   "source": [
    "##difference\n",
    "print(\"The difference is: \", number1-number2)"
   ]
  },
  {
   "cell_type": "code",
   "execution_count": 6,
   "id": "589ce1b1",
   "metadata": {},
   "outputs": [
    {
     "name": "stdout",
     "output_type": "stream",
     "text": [
      "The product is:  29.295\n"
     ]
    }
   ],
   "source": [
    "##product\n",
    "print(\"The product is: \", number1*number2)"
   ]
  },
  {
   "cell_type": "code",
   "execution_count": 7,
   "id": "8904950a",
   "metadata": {},
   "outputs": [
    {
     "name": "stdout",
     "output_type": "stream",
     "text": [
      "The quotient is:  3.2550000000000003\n"
     ]
    }
   ],
   "source": [
    "##quotient\n",
    "print(\"The quotient is: \", number1/number2)"
   ]
  },
  {
   "cell_type": "code",
   "execution_count": 8,
   "id": "ecc14bc5",
   "metadata": {},
   "outputs": [
    {
     "name": "stdout",
     "output_type": "stream",
     "text": [
      "The type for the result of the sum is:  <class 'float'>\n"
     ]
    }
   ],
   "source": [
    "##type\n",
    "print(\"The type for the result of the sum is: \", type(number1+number2))"
   ]
  },
  {
   "cell_type": "code",
   "execution_count": null,
   "id": "a79b4972",
   "metadata": {},
   "outputs": [],
   "source": []
  }
 ],
 "metadata": {
  "kernelspec": {
   "display_name": "Python 3 (ipykernel)",
   "language": "python",
   "name": "python3"
  },
  "language_info": {
   "codemirror_mode": {
    "name": "ipython",
    "version": 3
   },
   "file_extension": ".py",
   "mimetype": "text/x-python",
   "name": "python",
   "nbconvert_exporter": "python",
   "pygments_lexer": "ipython3",
   "version": "3.9.12"
  }
 },
 "nbformat": 4,
 "nbformat_minor": 5
}
